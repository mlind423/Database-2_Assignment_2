{
 "cells": [
  {
   "cell_type": "code",
   "execution_count": 1,
   "metadata": {},
   "outputs": [],
   "source": [
    "import pandas as pd\n",
    "import sqlite3"
   ]
  },
  {
   "cell_type": "code",
   "execution_count": 2,
   "metadata": {},
   "outputs": [],
   "source": [
    "conn = sqlite3.connect(\"database.db\")\n",
    "cursor = conn.cursor();"
   ]
  },
  {
   "cell_type": "code",
   "execution_count": 3,
   "metadata": {},
   "outputs": [],
   "source": [
    "cursor.execute(\"\"\"\n",
    "    CREATE TABLE Department (\n",
    "        employee_name TEXT PRIMARY KEY,\n",
    "        department TEXT\n",
    "    );\n",
    "               \"\"\")\n",
    "cursor.execute(\"\"\"\n",
    "    CREATE TABLE Employee (\n",
    "        employee_id INTEGER PRIMARY KEY,\n",
    "        employee_name TEXT,\n",
    "        FOREIGN KEY (employee_name) REFERENCES Department(employee_name)\n",
    "    );\n",
    "               \"\"\")\n",
    "cursor.execute(\"\"\"\n",
    "    CREATE TABLE Female (\n",
    "        employee_name TEXT PRIMARY KEY,\n",
    "        FOREIGN KEY (employee_name) REFERENCES Employee(employee_name)\n",
    "    );\n",
    "               \"\"\")\n",
    "cursor.execute(\"\"\"\n",
    "    CREATE TABLE Male (\n",
    "        employee_name TEXT PRIMARY KEY,\n",
    "        FOREIGN KEY (employee_name) REFERENCES Employee(employee_name)\n",
    "    );\n",
    "               \"\"\")\n",
    "cursor.execute(\"\"\"\n",
    "    CREATE TABLE Project (\n",
    "        project TEXT PRIMARY KEY\n",
    "    );\n",
    "               \"\"\")\n",
    "cursor.execute(\"\"\"\n",
    "    CREATE TABLE Salary (\n",
    "        employee_name TEXT PRIMARY KEY,\n",
    "        salary INTEGER,\n",
    "        FOREIGN KEY (employee_name) REFERENCES Employee(employee_name)\n",
    "    );\n",
    "               \"\"\")\n",
    "cursor.execute(\"\"\"\n",
    "    CREATE TABLE Supervise (\n",
    "        subordinate_name TEXT PRIMARY KEY,\n",
    "        supervisor_name TEXT,\n",
    "        FOREIGN KEY (supervisor_name) REFERENCES Employee(employee_name)\n",
    "        FOREIGN KEY (subordinate_name) REFERENCES Employee(employee_name)\n",
    "    );\n",
    "               \"\"\")\n",
    "cursor.execute(\"\"\"\n",
    "    CREATE TABLE Works_on (\n",
    "        employee_name TEXT,\n",
    "        project TEXT,\n",
    "        effort INTEGER,\n",
    "        PRIMARY KEY (employee_name, project),\n",
    "        FOREIGN KEY (project) REFERENCES Project(project)\n",
    "    );\n",
    "               \"\"\")\n",
    "conn.commit()\n"
   ]
  },
  {
   "cell_type": "code",
   "execution_count": 4,
   "metadata": {},
   "outputs": [],
   "source": [
    "dep = pd.read_csv('./Relations/department.csv')\n",
    "for index, row in dep.iterrows():\n",
    "    cursor.execute(f\"INSERT INTO Department VALUES ('{row.EMPLOYEE_NAME}', '{row.DEPARTMENT}');\")\n",
    "\n",
    "employ = pd.read_csv('./Relations/employee.csv')\n",
    "for index, row in employ.iterrows():\n",
    "    cursor.execute(f\"INSERT INTO Employee VALUES ({row.EMPLOYEE_ID}, '{row.EMPLOYEE_NAME}');\")\n",
    "\n",
    "fem = pd.read_csv('./Relations/female.csv')\n",
    "for index, row in fem.iterrows():\n",
    "    cursor.execute(f\"INSERT INTO Female VALUES ('{row.NAME}');\")\n",
    "\n",
    "male = pd.read_csv('./Relations/male.csv')\n",
    "for index, row in male.iterrows():\n",
    "    cursor.execute(f\"INSERT INTO Male VALUES ('{row.NAME}');\")\n",
    "\n",
    "pro = pd.read_csv('./Relations/project.csv')\n",
    "for index, row in pro.iterrows():\n",
    "    cursor.execute(f\"INSERT INTO Project VALUES ('{row.PROJECT}');\")\n",
    "\n",
    "sal = pd.read_csv('./Relations/salary.csv')\n",
    "for index, row in sal.iterrows():\n",
    "    cursor.execute(f\"INSERT INTO Salary VALUES ('{row.EMPLOYEE_NAME}', {row.SALARY});\")\n",
    "\n",
    "sup = pd.read_csv('./Relations/supervise.csv')\n",
    "for index, row in sup.iterrows():\n",
    "    cursor.execute(f\"INSERT INTO Supervise VALUES ('{row.SUBORDINATE}', '{row.SUPERVISOR}');\")\n",
    "\n",
    "works = pd.read_csv('./Relations/workson.csv')\n",
    "for index, row in works.iterrows():\n",
    "    cursor.execute(f\"INSERT INTO Works_on VALUES ('{row.NAME}', '{row.PROJECT}', {row.EFFORT});\")"
   ]
  },
  {
   "cell_type": "code",
   "execution_count": 5,
   "metadata": {},
   "outputs": [],
   "source": [
    "conn.commit()\n",
    "cursor.close()"
   ]
  }
 ],
 "metadata": {
  "kernelspec": {
   "display_name": "Python 3",
   "language": "python",
   "name": "python3"
  },
  "language_info": {
   "codemirror_mode": {
    "name": "ipython",
    "version": 3
   },
   "file_extension": ".py",
   "mimetype": "text/x-python",
   "name": "python",
   "nbconvert_exporter": "python",
   "pygments_lexer": "ipython3",
   "version": "3.12.1"
  }
 },
 "nbformat": 4,
 "nbformat_minor": 2
}
